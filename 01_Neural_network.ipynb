{
  "nbformat": 4,
  "nbformat_minor": 0,
  "metadata": {
    "colab": {
      "name": "01. Neural network",
      "provenance": [],
      "toc_visible": true,
      "authorship_tag": "ABX9TyMVglN1ybKopz9Yzxx2ppMv"
    },
    "kernelspec": {
      "name": "python3",
      "display_name": "Python 3"
    },
    "language_info": {
      "name": "python"
    }
  },
  "cells": [
    {
      "cell_type": "markdown",
      "metadata": {
        "id": "1tDu_WevvSjc"
      },
      "source": [
        "# 1.1 수학과 파이썬 복습"
      ]
    },
    {
      "cell_type": "markdown",
      "metadata": {
        "id": "IPrNu5sFwCxQ"
      },
      "source": [
        "## 1.1.1 벡터와 행렬"
      ]
    },
    {
      "cell_type": "markdown",
      "metadata": {
        "id": "1h0Mbd8RwFf3"
      },
      "source": [
        "* 벡터 \n",
        "<br> 크기와 방향을 가진 양\n",
        "<br> 1차원 배열로 표현 가능\n",
        "\n",
        "* 행렬\n",
        "<br> 2차원 배열로 표현 가능\n",
        "\n",
        "* 텐서\n",
        "<br> 벡터와 행렬을 확장하여 N차원 배열로 표현한 것"
      ]
    },
    {
      "cell_type": "code",
      "metadata": {
        "colab": {
          "base_uri": "https://localhost:8080/"
        },
        "id": "hz7YbTtmuzRA",
        "outputId": "87784aa0-0b51-4b3a-9f39-14a7ab200c28"
      },
      "source": [
        "import numpy as np\n",
        "\n",
        "x = np.array([1, 2, 3])     # 벡터 생성\n",
        "x. __class__        # 클래스 이름 표시"
      ],
      "execution_count": 10,
      "outputs": [
        {
          "output_type": "execute_result",
          "data": {
            "text/plain": [
              "numpy.ndarray"
            ]
          },
          "metadata": {},
          "execution_count": 10
        }
      ]
    },
    {
      "cell_type": "markdown",
      "metadata": {
        "id": "8R12ThK_x2OE"
      },
      "source": [
        "np.array() 메서드는 넘파이의 다차원 배열 클래스인 np.ndarray 클래스를 생성한다."
      ]
    },
    {
      "cell_type": "code",
      "metadata": {
        "colab": {
          "base_uri": "https://localhost:8080/"
        },
        "id": "Jebq6ihSxQUv",
        "outputId": "791e365a-3169-4cc2-c4a4-e27bed5d610a"
      },
      "source": [
        "x.shape     # 형상 확인"
      ],
      "execution_count": 11,
      "outputs": [
        {
          "output_type": "execute_result",
          "data": {
            "text/plain": [
              "(3,)"
            ]
          },
          "metadata": {},
          "execution_count": 11
        }
      ]
    },
    {
      "cell_type": "code",
      "metadata": {
        "colab": {
          "base_uri": "https://localhost:8080/"
        },
        "id": "TR73PYj-xTGV",
        "outputId": "a5a606e3-6cc9-4e7a-dd8b-3f17a7bb8a90"
      },
      "source": [
        "x.ndim      # 차원 확인"
      ],
      "execution_count": 12,
      "outputs": [
        {
          "output_type": "execute_result",
          "data": {
            "text/plain": [
              "1"
            ]
          },
          "metadata": {},
          "execution_count": 12
        }
      ]
    },
    {
      "cell_type": "code",
      "metadata": {
        "colab": {
          "base_uri": "https://localhost:8080/"
        },
        "id": "VrhDUAMkxV5f",
        "outputId": "89ff8d64-4064-4076-efe3-192da6800caa"
      },
      "source": [
        "W = np.array([[1, 2, 3], [4, 5, 6]])    # 행렬 생성\n",
        "W.shape     # 형상 확인"
      ],
      "execution_count": 13,
      "outputs": [
        {
          "output_type": "execute_result",
          "data": {
            "text/plain": [
              "(2, 3)"
            ]
          },
          "metadata": {},
          "execution_count": 13
        }
      ]
    },
    {
      "cell_type": "code",
      "metadata": {
        "colab": {
          "base_uri": "https://localhost:8080/"
        },
        "id": "LyDjf4RmxfSA",
        "outputId": "848cb379-023e-40e4-892c-0edefe4a1fae"
      },
      "source": [
        "W.ndim      # 차원 확인"
      ],
      "execution_count": 14,
      "outputs": [
        {
          "output_type": "execute_result",
          "data": {
            "text/plain": [
              "2"
            ]
          },
          "metadata": {},
          "execution_count": 14
        }
      ]
    },
    {
      "cell_type": "markdown",
      "metadata": {
        "id": "0rjWJeHAyHRJ"
      },
      "source": [
        "## 1.1.2 행렬의 원소별 연산"
      ]
    },
    {
      "cell_type": "markdown",
      "metadata": {
        "id": "XaLgbdsfzCsW"
      },
      "source": [
        "* 원소별 연산(elementwise)\n",
        "<br> 같은 위치의 원소끼리 연산이 이루어진다."
      ]
    },
    {
      "cell_type": "code",
      "metadata": {
        "colab": {
          "base_uri": "https://localhost:8080/"
        },
        "id": "iDASpq83xgMF",
        "outputId": "8f3957b6-b489-4169-8131-48afcad8a1fd"
      },
      "source": [
        "W = np.array([[1, 2, 3], [4, 5, 6]])\n",
        "X = np.array([[0, 1, 2], [3, 4, 5]])\n",
        "W + X"
      ],
      "execution_count": 19,
      "outputs": [
        {
          "output_type": "execute_result",
          "data": {
            "text/plain": [
              "array([[ 1,  3,  5],\n",
              "       [ 7,  9, 11]])"
            ]
          },
          "metadata": {},
          "execution_count": 19
        }
      ]
    },
    {
      "cell_type": "code",
      "metadata": {
        "colab": {
          "base_uri": "https://localhost:8080/"
        },
        "id": "U-xUaIpTysB8",
        "outputId": "281b004c-31d8-44aa-92f6-824f565ac398"
      },
      "source": [
        "W * X"
      ],
      "execution_count": 20,
      "outputs": [
        {
          "output_type": "execute_result",
          "data": {
            "text/plain": [
              "array([[ 0,  2,  6],\n",
              "       [12, 20, 30]])"
            ]
          },
          "metadata": {},
          "execution_count": 20
        }
      ]
    },
    {
      "cell_type": "markdown",
      "metadata": {
        "id": "mm1DKUARzeoV"
      },
      "source": [
        "##1.1.3 브로드캐스트"
      ]
    },
    {
      "cell_type": "markdown",
      "metadata": {
        "id": "LQMo8P6RzxZn"
      },
      "source": [
        "* 브로드캐스트\n",
        "<br> 형상이 다른 배열끼리도 연산이 가능하게하는 기능"
      ]
    },
    {
      "cell_type": "code",
      "metadata": {
        "colab": {
          "base_uri": "https://localhost:8080/"
        },
        "id": "9x7VY-WjytM1",
        "outputId": "c5aa8b4c-279d-4e4e-bee7-32cb78df4306"
      },
      "source": [
        "A = np.array([[1, 2], [3, 4]])\n",
        "A * 10"
      ],
      "execution_count": 22,
      "outputs": [
        {
          "output_type": "execute_result",
          "data": {
            "text/plain": [
              "array([[10, 20],\n",
              "       [30, 40]])"
            ]
          },
          "metadata": {},
          "execution_count": 22
        }
      ]
    },
    {
      "cell_type": "markdown",
      "metadata": {
        "id": "jr0Ig50t0HM0"
      },
      "source": [
        "위의 코드를 보면 2x2행렬에 스칼라 값 10이 곱해졌다.\n",
        "<br>이 때 스칼라 값 10이 브로드캐스트 기능에 의해 2x2행렬로 확장된 후 elementwise 연산이 수행된다."
      ]
    },
    {
      "cell_type": "code",
      "metadata": {
        "colab": {
          "base_uri": "https://localhost:8080/"
        },
        "id": "l1mJVuKC0Axl",
        "outputId": "852c60fd-435e-4085-85fa-e16c875ef207"
      },
      "source": [
        "A = np.array([[1, 2], [3, 4]])\n",
        "b = np.array([10, 20])\n",
        "A * b"
      ],
      "execution_count": 24,
      "outputs": [
        {
          "output_type": "execute_result",
          "data": {
            "text/plain": [
              "array([[10, 40],\n",
              "       [30, 80]])"
            ]
          },
          "metadata": {},
          "execution_count": 24
        }
      ]
    },
    {
      "cell_type": "markdown",
      "metadata": {
        "id": "1tirLpi00_mG"
      },
      "source": [
        "##1.1.4 벡터의 내적과 행렬의 곱"
      ]
    },
    {
      "cell_type": "markdown",
      "metadata": {
        "id": "eCNSUIYo1Hmm"
      },
      "source": [
        "* 벡터의 내적<br>\n",
        "두 벡터에서 대응하는 원소들의 곱을 모두 더한 것<br>\n",
        "Let $X = (x_1, x_2,\\dots,x_n)$, $Y = (y_1, y_2,\\dots,y_n)$. <br> \n",
        "Then $X \\bullet Y = x_1y_1+x_2y_2 + \\dots + x_ny_n$"
      ]
    },
    {
      "cell_type": "markdown",
      "metadata": {
        "id": "MGZy-TAF3p3m"
      },
      "source": [
        "NOTE\n",
        "<br> 벡터의 내적은 '두 벡터가 얼마나 같은 방향을 향하고 있는가'를 나타낸다.\n",
        "<br> 벡터의 길이가 1인 경우, 방향이 같을 경우 내적의 값이 1이고, 방향이 반대이면 내적의 값이 -1이다."
      ]
    },
    {
      "cell_type": "markdown",
      "metadata": {
        "id": "ECTKK7B34esB"
      },
      "source": [
        "* 행렬의 곱\n",
        "<br> 왼쪽 행렬의 행벡터와 오른쪽 행렬의 열벡터의 내적"
      ]
    },
    {
      "cell_type": "code",
      "metadata": {
        "colab": {
          "base_uri": "https://localhost:8080/"
        },
        "id": "dNT9jyea05uo",
        "outputId": "ce759bd1-0383-4264-a5c9-e1eb0d76faea"
      },
      "source": [
        "# 벡터의 내적(np.dot 메서드 이용)\n",
        "a = np.array([1, 2, 3])\n",
        "b = np.array([4, 5, 6])\n",
        "np.dot(a, b)    # 1*4 + 2*5 + 3*6 = 32"
      ],
      "execution_count": 29,
      "outputs": [
        {
          "output_type": "execute_result",
          "data": {
            "text/plain": [
              "32"
            ]
          },
          "metadata": {},
          "execution_count": 29
        }
      ]
    },
    {
      "cell_type": "code",
      "metadata": {
        "colab": {
          "base_uri": "https://localhost:8080/"
        },
        "id": "kDxWfl634vBP",
        "outputId": "a316147b-aa06-4168-d997-ca5ce504fa9f"
      },
      "source": [
        "# 행렬의 곱(np.matmul 메서드 이용)\n",
        "A = np.array([[1, 2], [3, 4]])\n",
        "B = np.array([[5, 6], [7, 8]])\n",
        "np.matmul(A, B)     # 1*5 + 2*7 = 19\n",
        "                    # 1*6 + 2*8 = 22\n",
        "                    # 3*5 + 4*7 = 43\n",
        "                    # 3*6 + 4*8 = 50"
      ],
      "execution_count": 32,
      "outputs": [
        {
          "output_type": "execute_result",
          "data": {
            "text/plain": [
              "array([[19, 22],\n",
              "       [43, 50]])"
            ]
          },
          "metadata": {},
          "execution_count": 32
        }
      ]
    },
    {
      "cell_type": "code",
      "metadata": {
        "colab": {
          "base_uri": "https://localhost:8080/"
        },
        "id": "L385CLML5D8Z",
        "outputId": "4ca8e17d-6134-4e5c-9fd2-dc1d4f740cfa"
      },
      "source": [
        "# 행렬의 곱(np.dot 메서드 이용)\n",
        "A = np.array([[1, 2], [3, 4]])\n",
        "B = np.array([[5, 6], [7, 8]])\n",
        "np.dot(A, B)     # 1*5 + 2*7 = 19\n",
        "                    # 1*6 + 2*8 = 22\n",
        "                    # 3*5 + 4*7 = 43\n",
        "                    # 3*6 + 4*8 = 50"
      ],
      "execution_count": 33,
      "outputs": [
        {
          "output_type": "execute_result",
          "data": {
            "text/plain": [
              "array([[19, 22],\n",
              "       [43, 50]])"
            ]
          },
          "metadata": {},
          "execution_count": 33
        }
      ]
    },
    {
      "cell_type": "markdown",
      "metadata": {
        "id": "zF84fjFm6o0b"
      },
      "source": [
        "##1.1.5 행렬 형상 확인"
      ]
    },
    {
      "cell_type": "markdown",
      "metadata": {
        "id": "rdAaXqjI6ud5"
      },
      "source": [
        "* 형상 확인\n",
        "<br> 행렬 A x 행렬 B = 행렬 C일 때,\n",
        "<br> 행렬 C의 형상은 (행렬 A의 행 수) by (행렬 B의 열 수)\n",
        "\n",
        "행렬의 곱에서는 대응하는 차원의 원소 수가 같아야 하므로 형상 확인이 매우 중요하다."
      ]
    },
    {
      "cell_type": "code",
      "metadata": {
        "id": "44xU0VRE6iTv"
      },
      "source": [
        ""
      ],
      "execution_count": 33,
      "outputs": []
    }
  ]
}