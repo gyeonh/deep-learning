{
  "nbformat": 4,
  "nbformat_minor": 0,
  "metadata": {
    "colab": {
      "name": "ch01",
      "provenance": []
    },
    "kernelspec": {
      "name": "python3",
      "display_name": "Python 3"
    },
    "language_info": {
      "name": "python"
    }
  },
  "cells": [
    {
      "cell_type": "markdown",
      "metadata": {
        "id": "smfATr6Jxgd5"
      },
      "source": [
        "# 헬로 파이썬\n"
      ]
    },
    {
      "cell_type": "code",
      "metadata": {
        "colab": {
          "base_uri": "https://localhost:8080/"
        },
        "id": "qJq4LIw8xmEA",
        "outputId": "e733297a-c4d2-4a05-c2f9-cab3b9516cc1"
      },
      "source": [
        "# 설치된 파이썬 버전출력 \n",
        "# $ python --version    # 터미널이나 명령 프롬프트에서 적용\n",
        "\n",
        "import sys\n",
        "print(sys.version)      # 코랩에서 적용ㅡ"
      ],
      "execution_count": 1,
      "outputs": [
        {
          "output_type": "stream",
          "name": "stdout",
          "text": [
            "3.7.12 (default, Sep 10 2021, 00:21:48) \n",
            "[GCC 7.5.0]\n"
          ]
        }
      ]
    },
    {
      "cell_type": "markdown",
      "metadata": {
        "id": "H9x3rPBdxtq1"
      },
      "source": [
        "# 1.4 파이썬 스크립트 파일"
      ]
    },
    {
      "cell_type": "markdown",
      "metadata": {
        "id": "xHU3QsKbxz53"
      },
      "source": [
        "* 클래스\n",
        "<br/> 개발자가 직접 클래스를 정의할 경우 독자적인 자료형을 만들 수 있다.\n",
        "<br/> 또, 클래스에는 그 클래스만의 전용 함수(메서드)와 속성을 정의 할 수 있다.\n",
        "<br/> 모든 클래스는 상속을 받는다.(중요)"
      ]
    },
    {
      "cell_type": "markdown",
      "metadata": {
        "id": "GB97CZJDyBUl"
      },
      "source": [
        "* 클래스의 구조<br>\n",
        "\n",
        "\n",
        "    class 클래스 이름:\n",
        "    def __init__(self, 인수, ...):          # 생성자(초기화용 메서드)\n",
        "        ...\n",
        "    def 매서드 이름1(self, 인수, ...):      # 메서드1\n",
        "        ...\n",
        "    def 매서드 이름2(self, 인수, ...):      # 메서드2\n",
        "        ...\n",
        "\n"
      ]
    },
    {
      "cell_type": "code",
      "metadata": {
        "colab": {
          "base_uri": "https://localhost:8080/"
        },
        "id": "OYQ6g3XsyAU5",
        "outputId": "522ef83d-2b22-4d82-e558-52892b2d554f"
      },
      "source": [
        "class Man(object):      # 모든 클래스는 상속을 받는다. 생략하는 경우도 있지만 적어주자!\n",
        "    def __init__(self, name):\n",
        "        self.name = name\n",
        "        print(\"Initialized!\")\n",
        "\n",
        "    def hello(self):\n",
        "        print(\"Hello\" + self.name + \"!\")\n",
        "\n",
        "    def goodbye(self):\n",
        "        print(\"Good-bye\" + self.name + \"!\")\n",
        "\n",
        "m = Man(\"David\")\n",
        "m.hello()\n",
        "m.goodbye()"
      ],
      "execution_count": 2,
      "outputs": [
        {
          "output_type": "stream",
          "name": "stdout",
          "text": [
            "Initialized!\n",
            "HelloDavid!\n",
            "Good-byeDavid!\n"
          ]
        }
      ]
    },
    {
      "cell_type": "markdown",
      "metadata": {
        "id": "O2A0giKnzPnt"
      },
      "source": [
        "위의 코드에서 Man이라는 새로운 클래스를 정의했다. \n",
        "<br> 그리고 Man 클래스에서 m이라는 인스턴스(객체)를 생성했다.\n",
        "<br><br>\n",
        "**객체(object) vs 인스턴스(instance)**\n",
        "<br> 객체란 클래스에 선언된 모양 그대로 생성된 실체를 말한다. '클래스의 인스턴스'라고 부르기도 한다.\n",
        "<br> 인스턴스란 객체를 소프트웨어에 실체화한 것을 말한다. 메모리에 할당된 객체를 뜻한다.\n",
        "<br> 예) (위의 코드 참조) m은 객체이자 Man클래스의 인스턴스이다.\n",
        "\n",
        "https://gbsb.tistory.com/155\n",
        "<br>https://kingnamji.tistory.com/6"
      ]
    },
    {
      "cell_type": "markdown",
      "metadata": {
        "id": "W6UeYVT8z9AA"
      },
      "source": [
        "# 1.5 넘파이\n",
        "넘파이는 외부 라이브러리이기 때문에 사용하기 전에 우선 넘파이 라이브러리를 쓸 수 있도록 가져와야 한다."
      ]
    },
    {
      "cell_type": "code",
      "metadata": {
        "id": "cuIiHJgs2CjL"
      },
      "source": [
        "import numpy as np"
      ],
      "execution_count": 3,
      "outputs": []
    },
    {
      "cell_type": "markdown",
      "metadata": {
        "id": "rTNOXwJ12QYp"
      },
      "source": [
        "넘파이 배열을 생성할 때는 np.array() 메서드를 이용한다.\n",
        "<br> np.array()는 파이썬의 리스트를 인수로 받아서 넘파이 라이브러리가 제공하는 특수한 형태의 배열 numpy.ndarray를 반환한다."
      ]
    },
    {
      "cell_type": "code",
      "metadata": {
        "colab": {
          "base_uri": "https://localhost:8080/"
        },
        "id": "k19Ti3i42P-e",
        "outputId": "4f75cef4-33a4-465f-f0cf-2493ff3a700f"
      },
      "source": [
        " # 넘파이 배열 생성\n",
        " x = np.array([1.0, 2.0, 3.0])\n",
        " print(x)\n",
        " print(type(x))"
      ],
      "execution_count": 4,
      "outputs": [
        {
          "output_type": "stream",
          "name": "stdout",
          "text": [
            "[1. 2. 3.]\n",
            "<class 'numpy.ndarray'>\n"
          ]
        }
      ]
    },
    {
      "cell_type": "markdown",
      "metadata": {
        "id": "s4qXiKa42Y0n"
      },
      "source": [
        "<np.ndarray는 리스트끼리의 연산을 할 때 사용하면 좋다.\n",
        "<br> 예를 들어 리스트 x와 y가 있을 때 각 원소별 x-y를 계산하고 싶을때 그냥 list를 사용하면 오류가 발생한다. \n",
        "<br> 이 때 np.array() 메서드를 이용하면 np.ndarray 배열이 반환되면서 원소별 계산이 가능해진다.\n",
        "<br><br> **주의할 점은 연산할 배열끼리 원소 수를 맞춰줘야한다.**"
      ]
    },
    {
      "cell_type": "code",
      "metadata": {
        "colab": {
          "base_uri": "https://localhost:8080/"
        },
        "id": "amQmXELG2UBW",
        "outputId": "d2f6ad0e-f2f4-48c2-f4e8-3065eb46bf6a"
      },
      "source": [
        "x = [1, 2, 3, 4]\n",
        "y = [5, 6, 7, 8]\n",
        "# print(x-y)        오류 발생\n",
        "# print(x+y)        [1, 2, 3, 4, 5, 6, 7, 8]\n",
        "\n",
        "x = np.array([1.0, 2.0, 3.0, 4.0])\n",
        "y = np.array([5.0, 6.0, 7.0, 8.0])\n",
        "print(x - y); print(x + y)\n",
        "print(x * y); print(x/y)"
      ],
      "execution_count": 5,
      "outputs": [
        {
          "output_type": "stream",
          "name": "stdout",
          "text": [
            "[-4. -4. -4. -4.]\n",
            "[ 6.  8. 10. 12.]\n",
            "[ 5. 12. 21. 32.]\n",
            "[0.2        0.33333333 0.42857143 0.5       ]\n"
          ]
        }
      ]
    },
    {
      "cell_type": "code",
      "metadata": {
        "colab": {
          "base_uri": "https://localhost:8080/"
        },
        "id": "ECnSJ1jL2cVs",
        "outputId": "38efeabd-f395-43c3-fe68-5230aa03dc3e"
      },
      "source": [
        "# 넘파이의 N차원 배열\n",
        "A = np.array([[1, 2], [3, 4]])\n",
        "print(A)\n",
        "print(A * 10)\n",
        "print(A.shape)      # 행렬의 형상\n",
        "print(A.dtype)      # 원소의 자료형\n",
        "print(len(A))       # 배열의 길이\n",
        "\n",
        "B =[[1, 2, 3], 4, 5, [6, 7]]\n",
        "print(len(B))"
      ],
      "execution_count": 6,
      "outputs": [
        {
          "output_type": "stream",
          "name": "stdout",
          "text": [
            "[[1 2]\n",
            " [3 4]]\n",
            "[[10 20]\n",
            " [30 40]]\n",
            "(2, 2)\n",
            "int64\n",
            "2\n",
            "4\n"
          ]
        }
      ]
    },
    {
      "cell_type": "markdown",
      "metadata": {
        "id": "yUaYCKEz4GN9"
      },
      "source": [
        "넘파이 배열은 원소별 계산 뿐만 아니라 넘파이 배열과 스칼라값의 산술 연산도 가능한데 이 경우 브로드캐스트 기능을 사용한다.\n",
        "<br> 넘파이에서 제공하는 브로드캐스트를 사용하면 넘파이에서 형상이 다른 배열끼리도 계산이 가능하게 된다.\n",
        "<br> 계산할 때 자동으로 더 작은 배열들을 가장 큰 배열과 같은 크기로 만들어 계산할 수 있게끔 해준다."
      ]
    },
    {
      "cell_type": "markdown",
      "metadata": {
        "id": "6_zo6-Et4I0E"
      },
      "source": [
        "![image.png](data:image/png;base64,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)"
      ]
    },
    {
      "cell_type": "code",
      "metadata": {
        "colab": {
          "base_uri": "https://localhost:8080/"
        },
        "id": "y0JRYip84DG0",
        "outputId": "2355f097-6a87-4d21-b5e0-2356a0588912"
      },
      "source": [
        "A = np.array([[1, 2], [3, 4]])\n",
        "B = np.array([10, 20])\n",
        "A * B                       "
      ],
      "execution_count": 7,
      "outputs": [
        {
          "output_type": "execute_result",
          "data": {
            "text/plain": [
              "array([[10, 40],\n",
              "       [30, 80]])"
            ]
          },
          "metadata": {},
          "execution_count": 7
        }
      ]
    },
    {
      "cell_type": "code",
      "metadata": {
        "colab": {
          "base_uri": "https://localhost:8080/"
        },
        "id": "WXhcrsVu4ynJ",
        "outputId": "41828568-c82e-4ca5-b5df-16bbd8a0115f"
      },
      "source": [
        "# 원소 접근\n",
        "X = np.array([[51, 55], [14, 19], [0, 4]])\n",
        "print(X)\n",
        "print(X[0])\n",
        "\n",
        "print(X[0][1])\n",
        "print(X[0,1])      # X[0][1] == X[0,1]"
      ],
      "execution_count": 8,
      "outputs": [
        {
          "output_type": "stream",
          "name": "stdout",
          "text": [
            "[[51 55]\n",
            " [14 19]\n",
            " [ 0  4]]\n",
            "[51 55]\n",
            "55\n",
            "55\n"
          ]
        }
      ]
    },
    {
      "cell_type": "code",
      "metadata": {
        "colab": {
          "base_uri": "https://localhost:8080/"
        },
        "id": "ktybzNDn40mt",
        "outputId": "6fe5f77b-b6f7-4117-9c93-0e73b510f6f9"
      },
      "source": [
        "# 슬라이싱\n",
        "X = np.array([1, 2, 3, 4])\n",
        "Y = np.array([[5, 6], [7, 8, 9]])\n",
        "\n",
        "print(X[: 2])      # 1차원에서 슬라이싱 (1차원 배열 X의 0번째부터 1번째 원소까지 출력)\n",
        "#print(Y[:1, 1:])     # 2차원에서 슬라이싱 (2차원 배열"
      ],
      "execution_count": 9,
      "outputs": [
        {
          "output_type": "stream",
          "name": "stdout",
          "text": [
            "[1 2]\n"
          ]
        },
        {
          "output_type": "stream",
          "name": "stderr",
          "text": [
            "/usr/local/lib/python3.7/dist-packages/ipykernel_launcher.py:3: VisibleDeprecationWarning: Creating an ndarray from ragged nested sequences (which is a list-or-tuple of lists-or-tuples-or ndarrays with different lengths or shapes) is deprecated. If you meant to do this, you must specify 'dtype=object' when creating the ndarray\n",
            "  This is separate from the ipykernel package so we can avoid doing imports until\n"
          ]
        }
      ]
    }
  ]
}
