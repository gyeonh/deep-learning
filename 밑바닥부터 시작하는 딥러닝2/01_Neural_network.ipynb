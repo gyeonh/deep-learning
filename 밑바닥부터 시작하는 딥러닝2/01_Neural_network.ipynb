{
  "nbformat": 4,
  "nbformat_minor": 0,
  "metadata": {
    "colab": {
      "name": "01. Neural network",
      "provenance": []
    },
    "kernelspec": {
      "name": "python3",
      "display_name": "Python 3"
    },
    "language_info": {
      "name": "python"
    }
  },
  "cells": [
    {
      "cell_type": "markdown",
      "metadata": {
        "id": "1tDu_WevvSjc"
      },
      "source": [
        "# 1.1 수학과 파이썬 복습"
      ]
    },
    {
      "cell_type": "markdown",
      "metadata": {
        "id": "IPrNu5sFwCxQ"
      },
      "source": [
        "## 1.1.1 벡터와 행렬"
      ]
    },
    {
      "cell_type": "markdown",
      "metadata": {
        "id": "1h0Mbd8RwFf3"
      },
      "source": [
        "* 벡터 \n",
        "<br> 크기와 방향을 가진 양\n",
        "<br> 1차원 배열로 표현 가능\n",
        "\n",
        "* 행렬\n",
        "<br> 2차원 배열로 표현 가능\n",
        "\n",
        "* 텐서\n",
        "<br> 벡터와 행렬을 확장하여 N차원 배열로 표현한 것"
      ]
    },
    {
      "cell_type": "code",
      "metadata": {
        "colab": {
          "base_uri": "https://localhost:8080/"
        },
        "id": "hz7YbTtmuzRA",
        "outputId": "7571cfb2-594c-4763-ecb2-05ba7a73f7eb"
      },
      "source": [
        "import numpy as np\n",
        "\n",
        "x = np.array([1, 2, 3])     # 벡터 생성\n",
        "x. __class__        # 클래스 이름 표시"
      ],
      "execution_count": 1,
      "outputs": [
        {
          "output_type": "execute_result",
          "data": {
            "text/plain": [
              "numpy.ndarray"
            ]
          },
          "metadata": {},
          "execution_count": 1
        }
      ]
    },
    {
      "cell_type": "markdown",
      "metadata": {
        "id": "8R12ThK_x2OE"
      },
      "source": [
        "np.array() 메서드는 넘파이의 다차원 배열 클래스인 np.ndarray 클래스를 생성한다."
      ]
    },
    {
      "cell_type": "code",
      "metadata": {
        "colab": {
          "base_uri": "https://localhost:8080/"
        },
        "id": "Jebq6ihSxQUv",
        "outputId": "110938bb-eace-481e-ae78-bed9c5666b37"
      },
      "source": [
        "x.shape     # 형상 확인"
      ],
      "execution_count": 2,
      "outputs": [
        {
          "output_type": "execute_result",
          "data": {
            "text/plain": [
              "(3,)"
            ]
          },
          "metadata": {},
          "execution_count": 2
        }
      ]
    },
    {
      "cell_type": "code",
      "metadata": {
        "colab": {
          "base_uri": "https://localhost:8080/"
        },
        "id": "TR73PYj-xTGV",
        "outputId": "ffbae175-584b-48e6-9bfa-618d6cda2a9f"
      },
      "source": [
        "x.ndim      # 차원 확인"
      ],
      "execution_count": 3,
      "outputs": [
        {
          "output_type": "execute_result",
          "data": {
            "text/plain": [
              "1"
            ]
          },
          "metadata": {},
          "execution_count": 3
        }
      ]
    },
    {
      "cell_type": "code",
      "metadata": {
        "colab": {
          "base_uri": "https://localhost:8080/"
        },
        "id": "VrhDUAMkxV5f",
        "outputId": "8f30395d-3e7d-4170-9170-d59a43c0ee97"
      },
      "source": [
        "W = np.array([[1, 2, 3], [4, 5, 6]])    # 행렬 생성\n",
        "W.shape     # 형상 확인"
      ],
      "execution_count": 4,
      "outputs": [
        {
          "output_type": "execute_result",
          "data": {
            "text/plain": [
              "(2, 3)"
            ]
          },
          "metadata": {},
          "execution_count": 4
        }
      ]
    },
    {
      "cell_type": "code",
      "metadata": {
        "colab": {
          "base_uri": "https://localhost:8080/"
        },
        "id": "LyDjf4RmxfSA",
        "outputId": "69ba91cd-979b-4bc3-df91-ff9302dc4128"
      },
      "source": [
        "W.ndim      # 차원 확인"
      ],
      "execution_count": 5,
      "outputs": [
        {
          "output_type": "execute_result",
          "data": {
            "text/plain": [
              "2"
            ]
          },
          "metadata": {},
          "execution_count": 5
        }
      ]
    },
    {
      "cell_type": "markdown",
      "metadata": {
        "id": "0rjWJeHAyHRJ"
      },
      "source": [
        "## 1.1.2 행렬의 원소별 연산"
      ]
    },
    {
      "cell_type": "markdown",
      "metadata": {
        "id": "XaLgbdsfzCsW"
      },
      "source": [
        "* 원소별 연산(elementwise)\n",
        "<br> 같은 위치의 원소끼리 연산이 이루어진다."
      ]
    },
    {
      "cell_type": "code",
      "metadata": {
        "colab": {
          "base_uri": "https://localhost:8080/"
        },
        "id": "iDASpq83xgMF",
        "outputId": "20521971-86f6-4b65-ce84-cbe30d446b35"
      },
      "source": [
        "W = np.array([[1, 2, 3], [4, 5, 6]])\n",
        "X = np.array([[0, 1, 2], [3, 4, 5]])\n",
        "W + X"
      ],
      "execution_count": 6,
      "outputs": [
        {
          "output_type": "execute_result",
          "data": {
            "text/plain": [
              "array([[ 1,  3,  5],\n",
              "       [ 7,  9, 11]])"
            ]
          },
          "metadata": {},
          "execution_count": 6
        }
      ]
    },
    {
      "cell_type": "code",
      "metadata": {
        "colab": {
          "base_uri": "https://localhost:8080/"
        },
        "id": "U-xUaIpTysB8",
        "outputId": "67f13b14-df34-490a-a73e-918af5c3e7ab"
      },
      "source": [
        "W * X"
      ],
      "execution_count": 7,
      "outputs": [
        {
          "output_type": "execute_result",
          "data": {
            "text/plain": [
              "array([[ 0,  2,  6],\n",
              "       [12, 20, 30]])"
            ]
          },
          "metadata": {},
          "execution_count": 7
        }
      ]
    },
    {
      "cell_type": "markdown",
      "metadata": {
        "id": "mm1DKUARzeoV"
      },
      "source": [
        "##1.1.3 브로드캐스트"
      ]
    },
    {
      "cell_type": "markdown",
      "metadata": {
        "id": "LQMo8P6RzxZn"
      },
      "source": [
        "* 브로드캐스트\n",
        "<br> 형상이 다른 배열끼리도 연산이 가능하게하는 기능"
      ]
    },
    {
      "cell_type": "code",
      "metadata": {
        "colab": {
          "base_uri": "https://localhost:8080/"
        },
        "id": "9x7VY-WjytM1",
        "outputId": "1af1b656-5847-4e1b-b3f3-100027befbb4"
      },
      "source": [
        "A = np.array([[1, 2], [3, 4]])\n",
        "A * 10"
      ],
      "execution_count": 8,
      "outputs": [
        {
          "output_type": "execute_result",
          "data": {
            "text/plain": [
              "array([[10, 20],\n",
              "       [30, 40]])"
            ]
          },
          "metadata": {},
          "execution_count": 8
        }
      ]
    },
    {
      "cell_type": "markdown",
      "metadata": {
        "id": "jr0Ig50t0HM0"
      },
      "source": [
        "위의 코드를 보면 2x2행렬에 스칼라 값 10이 곱해졌다.\n",
        "<br>이 때 스칼라 값 10이 브로드캐스트 기능에 의해 2x2행렬로 확장된 후 elementwise 연산이 수행된다."
      ]
    },
    {
      "cell_type": "code",
      "metadata": {
        "colab": {
          "base_uri": "https://localhost:8080/"
        },
        "id": "l1mJVuKC0Axl",
        "outputId": "204184f5-a97b-47a5-d75c-2efc6332655a"
      },
      "source": [
        "A = np.array([[1, 2], [3, 4]])\n",
        "b = np.array([10, 20])\n",
        "A * b"
      ],
      "execution_count": 9,
      "outputs": [
        {
          "output_type": "execute_result",
          "data": {
            "text/plain": [
              "array([[10, 40],\n",
              "       [30, 80]])"
            ]
          },
          "metadata": {},
          "execution_count": 9
        }
      ]
    },
    {
      "cell_type": "markdown",
      "metadata": {
        "id": "1tirLpi00_mG"
      },
      "source": [
        "##1.1.4 벡터의 내적과 행렬의 곱"
      ]
    },
    {
      "cell_type": "markdown",
      "metadata": {
        "id": "eCNSUIYo1Hmm"
      },
      "source": [
        "* 벡터의 내적<br>\n",
        "두 벡터에서 대응하는 원소들의 곱을 모두 더한 것<br>\n",
        "Let $X = (x_1, x_2,\\dots,x_n)$, $Y = (y_1, y_2,\\dots,y_n)$. <br> \n",
        "Then $X \\bullet Y = x_1y_1+x_2y_2 + \\dots + x_ny_n$"
      ]
    },
    {
      "cell_type": "markdown",
      "metadata": {
        "id": "MGZy-TAF3p3m"
      },
      "source": [
        "NOTE\n",
        "<br> 벡터의 내적은 '두 벡터가 얼마나 같은 방향을 향하고 있는가'를 나타낸다.\n",
        "<br> 벡터의 길이가 1인 경우, 방향이 같을 경우 내적의 값이 1이고, 방향이 반대이면 내적의 값이 -1이다."
      ]
    },
    {
      "cell_type": "markdown",
      "metadata": {
        "id": "ECTKK7B34esB"
      },
      "source": [
        "* 행렬의 곱\n",
        "<br> 왼쪽 행렬의 행벡터와 오른쪽 행렬의 열벡터의 내적"
      ]
    },
    {
      "cell_type": "code",
      "metadata": {
        "colab": {
          "base_uri": "https://localhost:8080/"
        },
        "id": "dNT9jyea05uo",
        "outputId": "af395d4c-af71-4003-c458-1b04d224b2f6"
      },
      "source": [
        "# 벡터의 내적(np.dot 메서드 이용)\n",
        "a = np.array([1, 2, 3])\n",
        "b = np.array([4, 5, 6])\n",
        "np.dot(a, b)    # 1*4 + 2*5 + 3*6 = 32"
      ],
      "execution_count": 10,
      "outputs": [
        {
          "output_type": "execute_result",
          "data": {
            "text/plain": [
              "32"
            ]
          },
          "metadata": {},
          "execution_count": 10
        }
      ]
    },
    {
      "cell_type": "code",
      "metadata": {
        "colab": {
          "base_uri": "https://localhost:8080/"
        },
        "id": "kDxWfl634vBP",
        "outputId": "e318f2c9-6e95-4b7a-e067-f7115f7de6d4"
      },
      "source": [
        "# 행렬의 곱(np.matmul 메서드 이용)\n",
        "A = np.array([[1, 2], [3, 4]])\n",
        "B = np.array([[5, 6], [7, 8]])\n",
        "np.matmul(A, B)     # 1*5 + 2*7 = 19\n",
        "                    # 1*6 + 2*8 = 22\n",
        "                    # 3*5 + 4*7 = 43\n",
        "                    # 3*6 + 4*8 = 50"
      ],
      "execution_count": 11,
      "outputs": [
        {
          "output_type": "execute_result",
          "data": {
            "text/plain": [
              "array([[19, 22],\n",
              "       [43, 50]])"
            ]
          },
          "metadata": {},
          "execution_count": 11
        }
      ]
    },
    {
      "cell_type": "code",
      "metadata": {
        "colab": {
          "base_uri": "https://localhost:8080/"
        },
        "id": "L385CLML5D8Z",
        "outputId": "550be6a6-3d10-48f7-b150-79853e60780e"
      },
      "source": [
        "# 행렬의 곱(np.dot 메서드 이용)\n",
        "A = np.array([[1, 2], [3, 4]])\n",
        "B = np.array([[5, 6], [7, 8]])\n",
        "np.dot(A, B)     # 1*5 + 2*7 = 19\n",
        "                    # 1*6 + 2*8 = 22\n",
        "                    # 3*5 + 4*7 = 43\n",
        "                    # 3*6 + 4*8 = 50"
      ],
      "execution_count": 12,
      "outputs": [
        {
          "output_type": "execute_result",
          "data": {
            "text/plain": [
              "array([[19, 22],\n",
              "       [43, 50]])"
            ]
          },
          "metadata": {},
          "execution_count": 12
        }
      ]
    },
    {
      "cell_type": "markdown",
      "metadata": {
        "id": "zF84fjFm6o0b"
      },
      "source": [
        "##1.1.5 행렬 형상 확인"
      ]
    },
    {
      "cell_type": "markdown",
      "metadata": {
        "id": "rdAaXqjI6ud5"
      },
      "source": [
        "* 형상 확인\n",
        "<br> 행렬 A x 행렬 B = 행렬 C일 때,\n",
        "<br> 행렬 C의 형상은 (행렬 A의 행 수) by (행렬 B의 열 수)\n",
        "\n",
        "행렬의 곱에서는 대응하는 차원의 원소 수가 같아야 하므로 형상 확인이 매우 중요하다."
      ]
    },
    {
      "cell_type": "markdown",
      "source": [
        "# 1.2 신경망의 추론"
      ],
      "metadata": {
        "id": "nrnSBO2cD-2r"
      }
    },
    {
      "cell_type": "markdown",
      "source": [
        "신경망은 입력층(input layer), 은닉층(hidden layer), 출력층(output layer)으로 이루어져 있다. \n",
        "\n",
        "각 층으로 향하는 화살표에는 $(뉴런값 $ X $ 가충치 + b)$값에 활성화 함수를 씌운 값이 전달된다. (b는 편향, 생략가능)"
      ],
      "metadata": {
        "id": "IGsrijwcFNK6"
      }
    },
    {
      "cell_type": "code",
      "metadata": {
        "id": "44xU0VRE6iTv"
      },
      "source": [
        "# 완전연결계층에 의한 변환(미니배치 버전)\n",
        "\n",
        "import numpy as np\n",
        "W1 = np.random.randn(2,4)   # 가중치\n",
        "b1 = np.random.randn(4)     # 편향\n",
        "x = np.random.randn(10,2)   # 입력\n",
        "h = np.matmul(x,W1) + b1    # (입력x가중치+편향) 계산"
      ],
      "execution_count": 13,
      "outputs": []
    },
    {
      "cell_type": "markdown",
      "source": [
        "* np.random.randn(m,n)\n",
        "<br> 평균0, 표준편차1의 가우시안 표준정규분포 난수를 matrix array(m,n) 형태로 생성 및 출력"
      ],
      "metadata": {
        "id": "3tUsImPAMefk"
      }
    },
    {
      "cell_type": "code",
      "source": [
        ""
      ],
      "metadata": {
        "id": "QaxO2PgDMdeW"
      },
      "execution_count": null,
      "outputs": []
    },
    {
      "cell_type": "code",
      "source": [
        ""
      ],
      "metadata": {
        "id": "IshhGM7pLwul"
      },
      "execution_count": null,
      "outputs": []
    }
  ]
}